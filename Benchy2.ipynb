{
 "cells": [
  {
   "cell_type": "code",
   "execution_count": 1,
   "metadata": {},
   "outputs": [],
   "source": [
    "from python import pydb\n",
    "import pandas as pd\n",
    "import numpy as np\n",
    "import random"
   ]
  },
  {
   "cell_type": "code",
   "execution_count": 2,
   "metadata": {},
   "outputs": [
    {
     "name": "stdout",
     "output_type": "stream",
     "text": [
      "Query time: 0.8281851199999437\n"
     ]
    }
   ],
   "source": [
    "table = pydb.Table(\"/tmp/pydb\", \"table_1\", time_column=\"t\", tag_columns=[\"s\"], float_value_columns=[\"c\"])\n",
    "df = table.query_df(columns=[\"t\"])\n",
    "t = df.t.to_numpy()"
   ]
  },
  {
   "cell_type": "code",
   "execution_count": 8,
   "metadata": {
    "scrolled": true
   },
   "outputs": [
    {
     "name": "stdout",
     "output_type": "stream",
     "text": [
      "Data already in.\n"
     ]
    }
   ],
   "source": [
    "random.seed(22)\n",
    "df_size = 1000000\n",
    "for e in range(1, 100):\n",
    "    try:\n",
    "        symbol = ''.join(chr(random.randrange(ord(\"A\"), ord(\"Z\") + 1)) for _ in range(4))\n",
    "        s_id = table.table.mint_str_refs([symbol])[0]\n",
    "        df = pd.DataFrame({\n",
    "            \"t\": np.arange(df_size).astype(np.int64),\n",
    "            \"s\": s_id*np.ones(df_size, dtype=np.dtype(\"uint32\")),\n",
    "            \"c\": np.arange(df_size).astype(np.float32) / 10,\n",
    "        })\n",
    "        table.append_data_df(df)\n",
    "        print(symbol)\n",
    "    except:\n",
    "        print(\"Data already in.\")\n",
    "        break"
   ]
  },
  {
   "cell_type": "code",
   "execution_count": 22,
   "metadata": {
    "scrolled": true
   },
   "outputs": [
    {
     "name": "stdout",
     "output_type": "stream",
     "text": [
      "Query time: 0.0003070129996558535\n"
     ]
    },
    {
     "data": {
      "text/html": [
       "<div>\n",
       "<style scoped>\n",
       "    .dataframe tbody tr th:only-of-type {\n",
       "        vertical-align: middle;\n",
       "    }\n",
       "\n",
       "    .dataframe tbody tr th {\n",
       "        vertical-align: top;\n",
       "    }\n",
       "\n",
       "    .dataframe thead th {\n",
       "        text-align: right;\n",
       "    }\n",
       "</style>\n",
       "<table border=\"1\" class=\"dataframe\">\n",
       "  <thead>\n",
       "    <tr style=\"text-align: right;\">\n",
       "      <th></th>\n",
       "      <th>t</th>\n",
       "      <th>s</th>\n",
       "      <th>c</th>\n",
       "    </tr>\n",
       "  </thead>\n",
       "  <tbody>\n",
       "    <tr>\n",
       "      <th>0</th>\n",
       "      <td>1970-01-01 00:00:00.000000000</td>\n",
       "      <td>ADQV</td>\n",
       "      <td>0.000000</td>\n",
       "    </tr>\n",
       "    <tr>\n",
       "      <th>1</th>\n",
       "      <td>1970-01-01 00:00:00.000000001</td>\n",
       "      <td>ADQV</td>\n",
       "      <td>0.100000</td>\n",
       "    </tr>\n",
       "    <tr>\n",
       "      <th>2</th>\n",
       "      <td>1970-01-01 00:00:00.000000002</td>\n",
       "      <td>ADQV</td>\n",
       "      <td>0.200000</td>\n",
       "    </tr>\n",
       "    <tr>\n",
       "      <th>3</th>\n",
       "      <td>1970-01-01 00:00:00.000000003</td>\n",
       "      <td>ADQV</td>\n",
       "      <td>0.300000</td>\n",
       "    </tr>\n",
       "    <tr>\n",
       "      <th>4</th>\n",
       "      <td>1970-01-01 00:00:00.000000004</td>\n",
       "      <td>ADQV</td>\n",
       "      <td>0.400000</td>\n",
       "    </tr>\n",
       "    <tr>\n",
       "      <th>...</th>\n",
       "      <td>...</td>\n",
       "      <td>...</td>\n",
       "      <td>...</td>\n",
       "    </tr>\n",
       "    <tr>\n",
       "      <th>9995</th>\n",
       "      <td>1970-01-01 00:00:00.000009995</td>\n",
       "      <td>ADQV</td>\n",
       "      <td>999.500000</td>\n",
       "    </tr>\n",
       "    <tr>\n",
       "      <th>9996</th>\n",
       "      <td>1970-01-01 00:00:00.000009996</td>\n",
       "      <td>ADQV</td>\n",
       "      <td>999.599976</td>\n",
       "    </tr>\n",
       "    <tr>\n",
       "      <th>9997</th>\n",
       "      <td>1970-01-01 00:00:00.000009997</td>\n",
       "      <td>ADQV</td>\n",
       "      <td>999.700012</td>\n",
       "    </tr>\n",
       "    <tr>\n",
       "      <th>9998</th>\n",
       "      <td>1970-01-01 00:00:00.000009998</td>\n",
       "      <td>ADQV</td>\n",
       "      <td>999.799988</td>\n",
       "    </tr>\n",
       "    <tr>\n",
       "      <th>9999</th>\n",
       "      <td>1970-01-01 00:00:00.000009999</td>\n",
       "      <td>ADQV</td>\n",
       "      <td>999.900024</td>\n",
       "    </tr>\n",
       "  </tbody>\n",
       "</table>\n",
       "<p>10000 rows × 3 columns</p>\n",
       "</div>"
      ],
      "text/plain": [
       "                                 t     s           c\n",
       "0    1970-01-01 00:00:00.000000000  ADQV    0.000000\n",
       "1    1970-01-01 00:00:00.000000001  ADQV    0.100000\n",
       "2    1970-01-01 00:00:00.000000002  ADQV    0.200000\n",
       "3    1970-01-01 00:00:00.000000003  ADQV    0.300000\n",
       "4    1970-01-01 00:00:00.000000004  ADQV    0.400000\n",
       "...                            ...   ...         ...\n",
       "9995 1970-01-01 00:00:00.000009995  ADQV  999.500000\n",
       "9996 1970-01-01 00:00:00.000009996  ADQV  999.599976\n",
       "9997 1970-01-01 00:00:00.000009997  ADQV  999.700012\n",
       "9998 1970-01-01 00:00:00.000009998  ADQV  999.799988\n",
       "9999 1970-01-01 00:00:00.000009999  ADQV  999.900024\n",
       "\n",
       "[10000 rows x 3 columns]"
      ]
     },
     "execution_count": 22,
     "metadata": {},
     "output_type": "execute_result"
    }
   ],
   "source": [
    "table.query_df(time_end=10000, s=\"ADQV\")"
   ]
  }
 ],
 "metadata": {
  "kernelspec": {
   "display_name": "Python 3",
   "language": "python",
   "name": "python3"
  },
  "language_info": {
   "codemirror_mode": {
    "name": "ipython",
    "version": 3
   },
   "file_extension": ".py",
   "mimetype": "text/x-python",
   "name": "python",
   "nbconvert_exporter": "python",
   "pygments_lexer": "ipython3",
   "version": "3.6.9"
  }
 },
 "nbformat": 4,
 "nbformat_minor": 4
}
