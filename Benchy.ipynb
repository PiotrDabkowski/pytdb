{
 "cells": [
  {
   "cell_type": "code",
   "execution_count": 2,
   "metadata": {},
   "outputs": [],
   "source": [
    "import numpy as np, sys, os\n",
    "sys.path.insert(0, os.path.join(os.path.abspath(os.getcwd()), \"cmake-build-release\"))\n",
    "import pywrap\n",
    "import random\n",
    "import qgrid\n",
    "from python import table_pb2\n",
    "import pandas as pd\n"
   ]
  },
  {
   "cell_type": "code",
   "execution_count": 3,
   "metadata": {},
   "outputs": [],
   "source": [
    "arr1 = np.repeat(np.arange(100), 10000).astype(np.uint32)\n",
    "np.random.shuffle(arr1)\n",
    "arr2 = np.repeat(np.arange(1000000), 1).astype(np.uint32)\n",
    "np.random.shuffle(arr2)"
   ]
  },
  {
   "cell_type": "code",
   "execution_count": 4,
   "metadata": {},
   "outputs": [
    {
     "name": "stdout",
     "output_type": "stream",
     "text": [
      "7.74 ms ± 390 µs per loop (mean ± std. dev. of 7 runs, 10 loops each)\n"
     ]
    }
   ],
   "source": [
    "%%timeit -n 10\n",
    "v, inv = pywrap.fast_unique(arr1)\n",
    "assert np.sum(v[inv] != arr1) == 0"
   ]
  },
  {
   "cell_type": "code",
   "execution_count": 5,
   "metadata": {},
   "outputs": [],
   "source": [
    "config = table_pb2.Table()\n",
    "config.name = \"securities_minute\"\n",
    "config.schema.time_column = \"t\"\n",
    "config.schema.tag_column.append(\"s\")\n",
    "close_price = table_pb2.ColumnSchema()\n",
    "close_price.name = \"c\"\n",
    "close_price.type = table_pb2.ColumnSchema.FLOAT\n",
    "config.schema.value_column.append(close_price)\n",
    "table = pywrap.Table(\"/tmp/pydb/table_1\", config.SerializeToString())"
   ]
  },
  {
   "cell_type": "code",
   "execution_count": 6,
   "metadata": {},
   "outputs": [],
   "source": [
    "# for e in range(3, 1000):\n",
    "#     table.append_data({\n",
    "#         \"t\": np.arange(100000).astype(np.int64), \n",
    "#         \"s\": np.ones(100000).astype(np.uint32) * e, \n",
    "#         \"c\": np.arange(100000).astype(np.float32) / 10,\n",
    "#     })\n",
    "#     print(e)"
   ]
  },
  {
   "cell_type": "code",
   "execution_count": 7,
   "metadata": {},
   "outputs": [
    {
     "name": "stdout",
     "output_type": "stream",
     "text": [
      "49599\n"
     ]
    }
   ],
   "source": [
    "sel = table_pb2.Selector()\n",
    "sel.column.extend([\"t\", \"s\", \"c\"])\n",
    "sel.time_selector.CopyFrom(table_pb2.TimeSelector(start=80000, end=80500, include_end=True))\n",
    "# sel.sub_table_selector.tag_selector.append(table_pb2.TagSelector(name=\"s\", value=[\"GOOG\", \"FB\"]))\n",
    "sel.sub_table_selector.tag_order.append(\"s\")\n",
    "result = table.query(sel.SerializeToString())\n",
    "v, inv = pywrap.fast_unique(result[\"s\"])\n",
    "mapping = dict(zip(v, table.resolve_str_refs(v)))\n",
    "result[\"s\"] = np.array([mapping[e] for e in v], dtype=np.object)[inv]\n",
    "df = pd.DataFrame(result, columns = sel.column)\n",
    "print(len(df))\n",
    "# qgrid.show_grid(df)\n"
   ]
  },
  {
   "cell_type": "code",
   "execution_count": 8,
   "metadata": {},
   "outputs": [
    {
     "name": "stdout",
     "output_type": "stream",
     "text": [
      "9.52 ms ± 119 µs per loop (mean ± std. dev. of 7 runs, 100 loops each)\n"
     ]
    }
   ],
   "source": [
    "%%timeit -n 100\n",
    "sel = table_pb2.Selector()\n",
    "sel.column.extend([\"t\", \"s\", \"c\"])\n",
    "sel.time_selector.CopyFrom(table_pb2.TimeSelector(start=80000, end=80300, include_end=True))\n",
    "sel.sub_table_selector.tag_selector.append(table_pb2.TagSelector(name=\"s\", value=[str(e) for e in range(1, 500)]))\n",
    "sel.sub_table_selector.tag_order.append(\"s\")\n",
    "result = table.query(sel.SerializeToString())\n",
    "v, inv = pywrap.fast_unique(result[\"s\"])\n",
    "mapping = dict(zip(v, table.resolve_str_refs(v)))\n",
    "result[\"s\"] = np.array([mapping[e] for e in v], dtype=np.object)[inv]\n",
    "pd.DataFrame(result)"
   ]
  },
  {
   "cell_type": "code",
   "execution_count": null,
   "metadata": {},
   "outputs": [],
   "source": [
    "while 1:\n",
    "    result = table.query(sel.SerializeToString())\n"
   ]
  },
  {
   "cell_type": "code",
   "execution_count": 10,
   "metadata": {},
   "outputs": [
    {
     "ename": "SyntaxError",
     "evalue": "invalid syntax (<ipython-input-10-bc454e085cbf>, line 1)",
     "output_type": "error",
     "traceback": [
      "\u001b[0;36m  File \u001b[0;32m\"<ipython-input-10-bc454e085cbf>\"\u001b[0;36m, line \u001b[0;32m1\u001b[0m\n\u001b[0;31m    sel.time_selector.\u001b[0m\n\u001b[0m                      ^\u001b[0m\n\u001b[0;31mSyntaxError\u001b[0m\u001b[0;31m:\u001b[0m invalid syntax\n"
     ]
    }
   ],
   "source": [
    "sel.time_selector."
   ]
  },
  {
   "cell_type": "code",
   "execution_count": null,
   "metadata": {},
   "outputs": [],
   "source": []
  }
 ],
 "metadata": {
  "kernelspec": {
   "display_name": "Python 3",
   "language": "python",
   "name": "python3"
  },
  "language_info": {
   "codemirror_mode": {
    "name": "ipython",
    "version": 3
   },
   "file_extension": ".py",
   "mimetype": "text/x-python",
   "name": "python",
   "nbconvert_exporter": "python",
   "pygments_lexer": "ipython3",
   "version": "3.6.9"
  }
 },
 "nbformat": 4,
 "nbformat_minor": 4
}
